{
 "cells": [
  {
   "cell_type": "code",
   "execution_count": null,
   "outputs": [],
   "source": [
    "\n",
    "import onnx\n",
    "from easydict import EasyDict\n",
    "\n",
    "from onnx2keras import onnx_to_keras\n",
    "from onnx_pytorch import code_gen\n",
    "\n",
    "\n",
    "\n",
    "import tensorflow_datasets as tfds\n",
    "\n",
    "import numpy as np\n",
    "\n",
    "import torchvision.models as models\n",
    "import torch\n",
    "\n",
    "import eagerpy as ep\n",
    "\n",
    "from foolbox import PyTorchModel, accuracy, samples\n",
    "from foolbox.attacks import LinfPGD\n",
    "\n",
    "import tensorflow as tf\n",
    "\n",
    "# tf.compat.v1.disable_eager_execution()\n",
    "from keras.models import Sequential\n",
    "from keras.layers import Dense, Flatten, Conv2D, MaxPooling2D\n",
    "from keras.losses import categorical_crossentropy\n",
    "from keras.optimizers import Adam\n",
    "\n",
    "from art.attacks.evasion import FastGradientMethod\n",
    "from art.estimators.classification.keras import KerasClassifier\n",
    "from art.estimators.classification import TensorFlowV2Classifier\n",
    "from art.estimators.classification import PyTorchClassifier\n",
    "from art.utils import load_mnist\n",
    "\n",
    "from cleverhans.tf2.attacks.fast_gradient_method import fast_gradient_method"
   ],
   "metadata": {
    "collapsed": false,
    "pycharm": {
     "name": "#%%\n"
    }
   }
  },
  {
   "cell_type": "code",
   "execution_count": null,
   "outputs": [],
   "source": [
    "def sigmoid(input):\n",
    "    return 1 / (1 + np.exp(-input))"
   ],
   "metadata": {
    "collapsed": false,
    "pycharm": {
     "name": "#%%\n"
    }
   }
  },
  {
   "cell_type": "code",
   "execution_count": null,
   "outputs": [],
   "source": [
    "def onnx2Keras(path):\n",
    "    onnx_model = onnx.load(path)\n",
    "    model = onnx_to_keras(onnx_model, ['input_imgs', 'big_input_imgs', 'desire', 'traffic_convention', 'initial_state'],\n",
    "                          name_policy='renumerate', change_ordering=False)\n",
    "    model.save(\"models/keras\" )"
   ],
   "metadata": {
    "collapsed": false,
    "pycharm": {
     "name": "#%%\n"
    }
   }
  },
  {
   "cell_type": "code",
   "execution_count": null,
   "outputs": [],
   "source": [
    "onnx_model = \"models/supercombo.onnx\"\n",
    "kerasModel = tf.keras.models.load_model(\"models/keras\", compile=False)\n",
    "pytorchModel = torch.load('models/supercombo.pt')\n",
    "pytorchModel.eval()"
   ],
   "metadata": {
    "collapsed": false,
    "pycharm": {
     "name": "#%%\n"
    }
   }
  },
  {
   "cell_type": "code",
   "execution_count": null,
   "outputs": [],
   "source": [
    "dataset = np.load('data/numpy.npz')\n",
    "\n",
    "datasize = dataset['inputImgs'].shape[0]\n",
    "\n",
    "inputImgs_data = dataset['inputImgs']\n",
    "bigInputImgs_data = dataset['bigInputImgs']\n",
    "desire_data = dataset['desire']\n",
    "trafficConvention_data = dataset['trafficConvention']\n",
    "initialState_data = dataset['initialState']\n",
    "output_data = dataset['output']"
   ],
   "metadata": {
    "collapsed": false,
    "pycharm": {
     "name": "#%%\n"
    }
   }
  },
  {
   "cell_type": "markdown",
   "source": [
    "Hieronder zullen alle tools getest worden.\n",
    "Als eerste wordt het openpilot model getest en daarna wordt bij de laatste tools 2 ook van de bekende datasets getest om te laten zien wat tool doet doet.\n",
    "\n",
    "Testing tool –Adversial Robustness 360 Toolbox–"
   ],
   "metadata": {
    "collapsed": false,
    "pycharm": {
     "name": "#%% md\n"
    }
   }
  },
  {
   "cell_type": "code",
   "execution_count": null,
   "outputs": [],
   "source": [
    "try:\n",
    "    classifier = KerasClassifier(model=kerasModel, use_logits=False)\n",
    "    attack = FastGradientMethod(estimator=classifier, eps=0.2)\n",
    "    x_test_adv = attack.generate(x={\"input_imgs\": inputImgs_data,\n",
    "                                    \"big_input_imgs\": bigInputImgs_data,\n",
    "                                    \"desire\": desire_data,\n",
    "                                    \"traffic_convention\": trafficConvention_data,\n",
    "                                    \"initial_state\": initialState_data})\n",
    "    predictions = classifier.predict(x_test_adv)\n",
    "    accuracy = np.sum(np.argmax(predictions, axis=1) == np.argmax(y_test, axis=1)) / len(y_test)\n",
    "    print(\"Accuracy on adversarial test examples: {}%\".format(accuracy * 100))\n",
    "except Exception as e: print(\"Expected 1 input variable but got 5\")"
   ],
   "metadata": {
    "collapsed": false,
    "pycharm": {
     "name": "#%%\n"
    }
   }
  },
  {
   "cell_type": "markdown",
   "source": [
    "Testing tool –Cleverhans–"
   ],
   "metadata": {
    "collapsed": false,
    "pycharm": {
     "name": "#%% md\n"
    }
   }
  },
  {
   "cell_type": "code",
   "execution_count": null,
   "outputs": [],
   "source": [
    "try:\n",
    "    test_acc_clean = tf.metrics.SparseCategoricalAccuracy()\n",
    "    test_acc_fgsm = tf.metrics.SparseCategoricalAccuracy()\n",
    "    for x, y in dataset:\n",
    "        test_acc_clean(y, output_data)\n",
    "        x_fgm = fast_gradient_method(kerasModel, x, 0.3, np.inf)\n",
    "        y_pred_fgm = model(x_fgm)\n",
    "        test_acc_fgsm(y, y_pred_fgm)\n",
    "\n",
    "    print(\"test acc on clean examples (%): {:.3f}\".format(test_acc_clean.result() * 100))\n",
    "    print(\"test acc on FGM adversarial examples (%): {:.3f}\".format(test_acc_fgsm.result() * 100))\n",
    "except Exception as e: print(\"Expected 1 input variable but got 5\")"
   ],
   "metadata": {
    "collapsed": false,
    "pycharm": {
     "name": "#%%\n"
    }
   }
  },
  {
   "cell_type": "markdown",
   "source": [
    "Testing tool –Foolbox–"
   ],
   "metadata": {
    "collapsed": false,
    "pycharm": {
     "name": "#%% md\n"
    }
   }
  },
  {
   "cell_type": "code",
   "execution_count": null,
   "outputs": [],
   "source": [
    "try:\n",
    "    model = \"model/supercombo.pt\"\n",
    "    preprocessing = dict(mean=[0.485, 0.456, 0.406], std=[0.229, 0.224, 0.225], axis=-3)\n",
    "    fmodel = PyTorchModel(model, bounds=(0, 1), preprocessing=preprocessing)\n",
    "\n",
    "    images, labels = ep.astensors(*samples(fmodel, dataset=\"imagenet\", batchsize=16))\n",
    "    clean_acc = accuracy(fmodel, images, labels)\n",
    "    print(f\"clean accuracy:  {clean_acc * 100:.1f} %\")\n",
    "\n",
    "    attack = LinfPGD()\n",
    "    epsilons = [\n",
    "        0.0,\n",
    "        0.0002,\n",
    "        0.0005,\n",
    "        0.0008,\n",
    "        0.001,\n",
    "        0.0015,\n",
    "        0.002,\n",
    "        0.003,\n",
    "        0.01,\n",
    "        0.1,\n",
    "        0.3,\n",
    "        0.5,\n",
    "        1.0,\n",
    "    ]\n",
    "    raw_advs, clipped_advs, success = attack(fmodel, images, labels, epsilons=epsilons)\n",
    "    robust_accuracy = 1 - success.float32().mean(axis=-1)\n",
    "    print(\"robust accuracy for perturbations with\")\n",
    "    for eps, acc in zip(epsilons, robust_accuracy):\n",
    "        print(f\"  Linf norm ≤ {eps:<6}: {acc.item() * 100:4.1f} %\")\n",
    "except Exception as e: print(\"Expected 1 input variable but got 5\")"
   ],
   "metadata": {
    "collapsed": false,
    "pycharm": {
     "name": "#%%\n"
    }
   }
  }
 ],
 "metadata": {
  "kernelspec": {
   "display_name": "Python 3",
   "language": "python",
   "name": "python3"
  },
  "language_info": {
   "codemirror_mode": {
    "name": "ipython",
    "version": 2
   },
   "file_extension": ".py",
   "mimetype": "text/x-python",
   "name": "python",
   "nbconvert_exporter": "python",
   "pygments_lexer": "ipython2",
   "version": "2.7.6"
  }
 },
 "nbformat": 4,
 "nbformat_minor": 0
}