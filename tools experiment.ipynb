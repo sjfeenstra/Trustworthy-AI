{
 "cells": [
  {
   "cell_type": "code",
   "execution_count": 1,
   "metadata": {
    "collapsed": true,
    "pycharm": {
     "name": "#%%\n"
    }
   },
   "outputs": [],
   "source": [
    "import os\n",
    "\n",
    "import cv2\n",
    "import onnx\n",
    "from easydict import EasyDict\n",
    "\n",
    "from onnx2keras import onnx_to_keras\n",
    "from onnx_pytorch import code_gen\n",
    "\n",
    "\n",
    "from adversarialbox.adversary import Adversary\n",
    "from adversarialbox.attacks.gradient_method import FGSM\n",
    "from advbox.models.keras import KerasModel\n",
    "from tutorials.mnist_model_pytorch import Net\n",
    "\n",
    "import tensorflow_datasets as tfds\n",
    "\n",
    "from pytorchGenerator.model import Model\n",
    "import numpy as np\n",
    "import onnxruntime\n",
    "import pandas as pd\n",
    "import torchvision.models as models\n",
    "import torch\n",
    "import torch.nn as nn\n",
    "import torch.nn.functional as F\n",
    "import torch.optim as optim\n",
    "import eagerpy as ep\n",
    "\n",
    "from foolbox import PyTorchModel, accuracy, samples\n",
    "from foolbox.attacks import LinfPGD\n",
    "\n",
    "import tensorflow as tf\n",
    "\n",
    "# tf.compat.v1.disable_eager_execution()\n",
    "from keras.models import Sequential\n",
    "from keras.layers import Dense, Flatten, Conv2D, MaxPooling2D\n",
    "from keras.losses import categorical_crossentropy\n",
    "from keras.optimizers import Adam\n",
    "\n",
    "from art.attacks.evasion import FastGradientMethod\n",
    "from art.estimators.classification.keras import KerasClassifier\n",
    "from art.estimators.classification import PyTorchClassifier\n",
    "from art.utils import load_mnist\n",
    "\n",
    "from cleverhans.tf2.attacks.fast_gradient_method import fast_gradient_method\n",
    "\n",
    "\n",
    "from matplotlib import pyplot as plt\n"
   ]
  },
  {
   "cell_type": "code",
   "execution_count": 2,
   "outputs": [],
   "source": [
    "def sigmoid(input):\n",
    "    return 1 / (1 + np.exp(-input))"
   ],
   "metadata": {
    "collapsed": false,
    "pycharm": {
     "name": "#%%\n"
    }
   }
  },
  {
   "cell_type": "code",
   "execution_count": 3,
   "outputs": [],
   "source": [
    "def onnx2Keras(path):\n",
    "    onnx_model = onnx.load(path)\n",
    "    model = onnx_to_keras(onnx_model, ['input_imgs', 'big_input_imgs', 'desire', 'traffic_convention', 'initial_state'],\n",
    "                          name_policy='renumerate', change_ordering=False)\n",
    "    model.save(\"models/keras\" )"
   ],
   "metadata": {
    "collapsed": false,
    "pycharm": {
     "name": "#%%\n"
    }
   }
  },
  {
   "cell_type": "code",
   "execution_count": 4,
   "outputs": [],
   "source": [
    "def ld_mnist():\n",
    "    \"\"\"Load training and test data.\"\"\"\n",
    "\n",
    "    def convert_types(image, label):\n",
    "        image = tf.cast(image, tf.float32)\n",
    "        image /= 255\n",
    "        return image, label\n",
    "\n",
    "    dataset, info = tfds.load(\n",
    "        \"mnist\",  with_info=True, as_supervised=True\n",
    "    )\n",
    "    mnist_train, mnist_test = dataset[\"train\"], dataset[\"test\"]\n",
    "    mnist_train = mnist_train.map(convert_types).shuffle(10000).batch(128)\n",
    "    mnist_test = mnist_test.map(convert_types).batch(128)\n",
    "    return EasyDict(train=mnist_train, test=mnist_test)"
   ],
   "metadata": {
    "collapsed": false,
    "pycharm": {
     "name": "#%%\n"
    }
   }
  },
  {
   "cell_type": "code",
   "execution_count": 5,
   "outputs": [
    {
     "ename": "AttributeError",
     "evalue": "'ParameterDict' object has no attribute '_keys'",
     "output_type": "error",
     "traceback": [
      "\u001B[1;31m---------------------------------------------------------------------------\u001B[0m",
      "\u001B[1;31mAttributeError\u001B[0m                            Traceback (most recent call last)",
      "File \u001B[1;32m~\\anaconda3\\envs\\TrustworthyAI\\lib\\site-packages\\IPython\\core\\formatters.py:707\u001B[0m, in \u001B[0;36mPlainTextFormatter.__call__\u001B[1;34m(self, obj)\u001B[0m\n\u001B[0;32m    700\u001B[0m stream \u001B[38;5;241m=\u001B[39m StringIO()\n\u001B[0;32m    701\u001B[0m printer \u001B[38;5;241m=\u001B[39m pretty\u001B[38;5;241m.\u001B[39mRepresentationPrinter(stream, \u001B[38;5;28mself\u001B[39m\u001B[38;5;241m.\u001B[39mverbose,\n\u001B[0;32m    702\u001B[0m     \u001B[38;5;28mself\u001B[39m\u001B[38;5;241m.\u001B[39mmax_width, \u001B[38;5;28mself\u001B[39m\u001B[38;5;241m.\u001B[39mnewline,\n\u001B[0;32m    703\u001B[0m     max_seq_length\u001B[38;5;241m=\u001B[39m\u001B[38;5;28mself\u001B[39m\u001B[38;5;241m.\u001B[39mmax_seq_length,\n\u001B[0;32m    704\u001B[0m     singleton_pprinters\u001B[38;5;241m=\u001B[39m\u001B[38;5;28mself\u001B[39m\u001B[38;5;241m.\u001B[39msingleton_printers,\n\u001B[0;32m    705\u001B[0m     type_pprinters\u001B[38;5;241m=\u001B[39m\u001B[38;5;28mself\u001B[39m\u001B[38;5;241m.\u001B[39mtype_printers,\n\u001B[0;32m    706\u001B[0m     deferred_pprinters\u001B[38;5;241m=\u001B[39m\u001B[38;5;28mself\u001B[39m\u001B[38;5;241m.\u001B[39mdeferred_printers)\n\u001B[1;32m--> 707\u001B[0m \u001B[43mprinter\u001B[49m\u001B[38;5;241;43m.\u001B[39;49m\u001B[43mpretty\u001B[49m\u001B[43m(\u001B[49m\u001B[43mobj\u001B[49m\u001B[43m)\u001B[49m\n\u001B[0;32m    708\u001B[0m printer\u001B[38;5;241m.\u001B[39mflush()\n\u001B[0;32m    709\u001B[0m \u001B[38;5;28;01mreturn\u001B[39;00m stream\u001B[38;5;241m.\u001B[39mgetvalue()\n",
      "File \u001B[1;32m~\\anaconda3\\envs\\TrustworthyAI\\lib\\site-packages\\IPython\\lib\\pretty.py:410\u001B[0m, in \u001B[0;36mRepresentationPrinter.pretty\u001B[1;34m(self, obj)\u001B[0m\n\u001B[0;32m    407\u001B[0m                         \u001B[38;5;28;01mreturn\u001B[39;00m meth(obj, \u001B[38;5;28mself\u001B[39m, cycle)\n\u001B[0;32m    408\u001B[0m                 \u001B[38;5;28;01mif\u001B[39;00m \u001B[38;5;28mcls\u001B[39m \u001B[38;5;129;01mis\u001B[39;00m \u001B[38;5;129;01mnot\u001B[39;00m \u001B[38;5;28mobject\u001B[39m \\\n\u001B[0;32m    409\u001B[0m                         \u001B[38;5;129;01mand\u001B[39;00m callable(\u001B[38;5;28mcls\u001B[39m\u001B[38;5;241m.\u001B[39m\u001B[38;5;18m__dict__\u001B[39m\u001B[38;5;241m.\u001B[39mget(\u001B[38;5;124m'\u001B[39m\u001B[38;5;124m__repr__\u001B[39m\u001B[38;5;124m'\u001B[39m)):\n\u001B[1;32m--> 410\u001B[0m                     \u001B[38;5;28;01mreturn\u001B[39;00m \u001B[43m_repr_pprint\u001B[49m\u001B[43m(\u001B[49m\u001B[43mobj\u001B[49m\u001B[43m,\u001B[49m\u001B[43m \u001B[49m\u001B[38;5;28;43mself\u001B[39;49m\u001B[43m,\u001B[49m\u001B[43m \u001B[49m\u001B[43mcycle\u001B[49m\u001B[43m)\u001B[49m\n\u001B[0;32m    412\u001B[0m     \u001B[38;5;28;01mreturn\u001B[39;00m _default_pprint(obj, \u001B[38;5;28mself\u001B[39m, cycle)\n\u001B[0;32m    413\u001B[0m \u001B[38;5;28;01mfinally\u001B[39;00m:\n",
      "File \u001B[1;32m~\\anaconda3\\envs\\TrustworthyAI\\lib\\site-packages\\IPython\\lib\\pretty.py:778\u001B[0m, in \u001B[0;36m_repr_pprint\u001B[1;34m(obj, p, cycle)\u001B[0m\n\u001B[0;32m    776\u001B[0m \u001B[38;5;124;03m\"\"\"A pprint that just redirects to the normal repr function.\"\"\"\u001B[39;00m\n\u001B[0;32m    777\u001B[0m \u001B[38;5;66;03m# Find newlines and replace them with p.break_()\u001B[39;00m\n\u001B[1;32m--> 778\u001B[0m output \u001B[38;5;241m=\u001B[39m \u001B[38;5;28;43mrepr\u001B[39;49m\u001B[43m(\u001B[49m\u001B[43mobj\u001B[49m\u001B[43m)\u001B[49m\n\u001B[0;32m    779\u001B[0m lines \u001B[38;5;241m=\u001B[39m output\u001B[38;5;241m.\u001B[39msplitlines()\n\u001B[0;32m    780\u001B[0m \u001B[38;5;28;01mwith\u001B[39;00m p\u001B[38;5;241m.\u001B[39mgroup():\n",
      "File \u001B[1;32m~\\anaconda3\\envs\\TrustworthyAI\\lib\\site-packages\\torch\\nn\\modules\\module.py:1935\u001B[0m, in \u001B[0;36mModule.__repr__\u001B[1;34m(self)\u001B[0m\n\u001B[0;32m   1933\u001B[0m child_lines \u001B[38;5;241m=\u001B[39m []\n\u001B[0;32m   1934\u001B[0m \u001B[38;5;28;01mfor\u001B[39;00m key, module \u001B[38;5;129;01min\u001B[39;00m \u001B[38;5;28mself\u001B[39m\u001B[38;5;241m.\u001B[39m_modules\u001B[38;5;241m.\u001B[39mitems():\n\u001B[1;32m-> 1935\u001B[0m     mod_str \u001B[38;5;241m=\u001B[39m \u001B[38;5;28;43mrepr\u001B[39;49m\u001B[43m(\u001B[49m\u001B[43mmodule\u001B[49m\u001B[43m)\u001B[49m\n\u001B[0;32m   1936\u001B[0m     mod_str \u001B[38;5;241m=\u001B[39m _addindent(mod_str, \u001B[38;5;241m2\u001B[39m)\n\u001B[0;32m   1937\u001B[0m     child_lines\u001B[38;5;241m.\u001B[39mappend(\u001B[38;5;124m'\u001B[39m\u001B[38;5;124m(\u001B[39m\u001B[38;5;124m'\u001B[39m \u001B[38;5;241m+\u001B[39m key \u001B[38;5;241m+\u001B[39m \u001B[38;5;124m'\u001B[39m\u001B[38;5;124m): \u001B[39m\u001B[38;5;124m'\u001B[39m \u001B[38;5;241m+\u001B[39m mod_str)\n",
      "File \u001B[1;32m~\\anaconda3\\envs\\TrustworthyAI\\lib\\site-packages\\torch\\nn\\modules\\module.py:1929\u001B[0m, in \u001B[0;36mModule.__repr__\u001B[1;34m(self)\u001B[0m\n\u001B[0;32m   1926\u001B[0m \u001B[38;5;28;01mdef\u001B[39;00m \u001B[38;5;21m__repr__\u001B[39m(\u001B[38;5;28mself\u001B[39m):\n\u001B[0;32m   1927\u001B[0m     \u001B[38;5;66;03m# We treat the extra repr like the sub-module, one item per line\u001B[39;00m\n\u001B[0;32m   1928\u001B[0m     extra_lines \u001B[38;5;241m=\u001B[39m []\n\u001B[1;32m-> 1929\u001B[0m     extra_repr \u001B[38;5;241m=\u001B[39m \u001B[38;5;28;43mself\u001B[39;49m\u001B[38;5;241;43m.\u001B[39;49m\u001B[43mextra_repr\u001B[49m\u001B[43m(\u001B[49m\u001B[43m)\u001B[49m\n\u001B[0;32m   1930\u001B[0m     \u001B[38;5;66;03m# empty string will be split into list ['']\u001B[39;00m\n\u001B[0;32m   1931\u001B[0m     \u001B[38;5;28;01mif\u001B[39;00m extra_repr:\n",
      "File \u001B[1;32m~\\anaconda3\\envs\\TrustworthyAI\\lib\\site-packages\\torch\\nn\\modules\\container.py:755\u001B[0m, in \u001B[0;36mParameterDict.extra_repr\u001B[1;34m(self)\u001B[0m\n\u001B[0;32m    753\u001B[0m \u001B[38;5;28;01mdef\u001B[39;00m \u001B[38;5;21mextra_repr\u001B[39m(\u001B[38;5;28mself\u001B[39m) \u001B[38;5;241m-\u001B[39m\u001B[38;5;241m>\u001B[39m \u001B[38;5;28mstr\u001B[39m:\n\u001B[0;32m    754\u001B[0m     child_lines \u001B[38;5;241m=\u001B[39m []\n\u001B[1;32m--> 755\u001B[0m     \u001B[38;5;28;01mfor\u001B[39;00m k, p \u001B[38;5;129;01min\u001B[39;00m \u001B[38;5;28;43mself\u001B[39;49m\u001B[38;5;241;43m.\u001B[39;49m\u001B[43mitems\u001B[49m\u001B[43m(\u001B[49m\u001B[43m)\u001B[49m:\n\u001B[0;32m    756\u001B[0m         \u001B[38;5;28;01mif\u001B[39;00m \u001B[38;5;28misinstance\u001B[39m(p, torch\u001B[38;5;241m.\u001B[39mTensor):\n\u001B[0;32m    757\u001B[0m             size_str \u001B[38;5;241m=\u001B[39m \u001B[38;5;124m'\u001B[39m\u001B[38;5;124mx\u001B[39m\u001B[38;5;124m'\u001B[39m\u001B[38;5;241m.\u001B[39mjoin(\u001B[38;5;28mstr\u001B[39m(size) \u001B[38;5;28;01mfor\u001B[39;00m size \u001B[38;5;129;01min\u001B[39;00m p\u001B[38;5;241m.\u001B[39msize())\n",
      "File \u001B[1;32m~\\anaconda3\\envs\\TrustworthyAI\\lib\\site-packages\\torch\\nn\\modules\\container.py:709\u001B[0m, in \u001B[0;36mParameterDict.items\u001B[1;34m(self)\u001B[0m\n\u001B[0;32m    706\u001B[0m \u001B[38;5;28;01mdef\u001B[39;00m \u001B[38;5;21mitems\u001B[39m(\u001B[38;5;28mself\u001B[39m) \u001B[38;5;241m-\u001B[39m\u001B[38;5;241m>\u001B[39m Iterable[Tuple[\u001B[38;5;28mstr\u001B[39m, Any]]:\n\u001B[0;32m    707\u001B[0m     \u001B[38;5;124mr\u001B[39m\u001B[38;5;124;03m\"\"\"Return an iterable of the ParameterDict key/value pairs.\u001B[39;00m\n\u001B[0;32m    708\u001B[0m \u001B[38;5;124;03m    \"\"\"\u001B[39;00m\n\u001B[1;32m--> 709\u001B[0m     \u001B[38;5;28;01mreturn\u001B[39;00m ((k, \u001B[38;5;28mself\u001B[39m[k]) \u001B[38;5;28;01mfor\u001B[39;00m k \u001B[38;5;129;01min\u001B[39;00m \u001B[38;5;28;43mself\u001B[39;49m\u001B[38;5;241;43m.\u001B[39;49m\u001B[43m_keys\u001B[49m)\n",
      "File \u001B[1;32m~\\anaconda3\\envs\\TrustworthyAI\\lib\\site-packages\\torch\\nn\\modules\\module.py:1207\u001B[0m, in \u001B[0;36mModule.__getattr__\u001B[1;34m(self, name)\u001B[0m\n\u001B[0;32m   1205\u001B[0m     \u001B[38;5;28;01mif\u001B[39;00m name \u001B[38;5;129;01min\u001B[39;00m modules:\n\u001B[0;32m   1206\u001B[0m         \u001B[38;5;28;01mreturn\u001B[39;00m modules[name]\n\u001B[1;32m-> 1207\u001B[0m \u001B[38;5;28;01mraise\u001B[39;00m \u001B[38;5;167;01mAttributeError\u001B[39;00m(\u001B[38;5;124m\"\u001B[39m\u001B[38;5;124m'\u001B[39m\u001B[38;5;132;01m{}\u001B[39;00m\u001B[38;5;124m'\u001B[39m\u001B[38;5;124m object has no attribute \u001B[39m\u001B[38;5;124m'\u001B[39m\u001B[38;5;132;01m{}\u001B[39;00m\u001B[38;5;124m'\u001B[39m\u001B[38;5;124m\"\u001B[39m\u001B[38;5;241m.\u001B[39mformat(\n\u001B[0;32m   1208\u001B[0m     \u001B[38;5;28mtype\u001B[39m(\u001B[38;5;28mself\u001B[39m)\u001B[38;5;241m.\u001B[39m\u001B[38;5;18m__name__\u001B[39m, name))\n",
      "\u001B[1;31mAttributeError\u001B[0m: 'ParameterDict' object has no attribute '_keys'"
     ]
    }
   ],
   "source": [
    "onnx_model = \"models/supercombo.onnx\"\n",
    "kerasModel = tf.keras.models.load_model(\"models/keras\", compile=False)\n",
    "pytorchModel = torch.load('models/supercombo.pt')\n",
    "pytorchModel.eval()"
   ],
   "metadata": {
    "collapsed": false,
    "pycharm": {
     "name": "#%%\n"
    }
   }
  },
  {
   "cell_type": "code",
   "execution_count": 6,
   "outputs": [],
   "source": [
    "(x_train, y_train), (x_test, y_test), min_pixel_value, max_pixel_value = load_mnist()\n",
    "data = ld_mnist()\n",
    "model = Sequential()\n",
    "model.add(Conv2D(filters=4, kernel_size=(5, 5), strides=1, activation=\"relu\", input_shape=(28, 28, 1)))\n",
    "model.add(MaxPooling2D(pool_size=(2, 2)))\n",
    "model.add(Conv2D(filters=10, kernel_size=(5, 5), strides=1, activation=\"relu\", input_shape=(23, 23, 4)))\n",
    "model.add(MaxPooling2D(pool_size=(2, 2)))\n",
    "model.add(Flatten())\n",
    "model.add(Dense(100, activation=\"relu\"))\n",
    "model.add(Dense(10, activation=\"softmax\"))\n",
    "\n",
    "model.compile(loss=categorical_crossentropy, optimizer=Adam(learning_rate=0.01), metrics=[\"accuracy\"])"
   ],
   "metadata": {
    "collapsed": false,
    "pycharm": {
     "name": "#%%\n"
    }
   }
  },
  {
   "cell_type": "code",
   "execution_count": 7,
   "outputs": [],
   "source": [
    "dataset = np.load('data/numpy.npz')\n",
    "\n",
    "datasize = dataset['inputImgs'].shape[0]\n",
    "\n",
    "inputImgs_data = dataset['inputImgs']\n",
    "bigInputImgs_data = dataset['bigInputImgs']\n",
    "desire_data = dataset['desire']\n",
    "trafficConvention_data = dataset['trafficConvention']\n",
    "initialState_data = dataset['initialState']\n",
    "output_data = dataset['output']"
   ],
   "metadata": {
    "collapsed": false,
    "pycharm": {
     "name": "#%%\n"
    }
   }
  },
  {
   "cell_type": "markdown",
   "source": [
    "Testing tool –Adversial Robustness 360 Toolbox–"
   ],
   "metadata": {
    "collapsed": false,
    "pycharm": {
     "name": "#%% md\n"
    }
   },
   "outputs": []
  },
  {
   "cell_type": "code",
   "execution_count": 8,
   "outputs": [
    {
     "name": "stdout",
     "output_type": "stream",
     "text": [
      "TensorFlow is executing eagerly. Please disable eager execution.\n"
     ]
    }
   ],
   "source": [
    "try:\n",
    "    classifier = KerasClassifier(model=kerasModel, use_logits=False)\n",
    "    attack = FastGradientMethod(estimator=classifier, eps=0.2)\n",
    "    x_test_adv = attack.generate(x={\"input_imgs\": inputImgs_data,\n",
    "                                    \"big_input_imgs\": bigInputImgs_data,\n",
    "                                    \"desire\": desire_data,\n",
    "                                    \"traffic_convention\": trafficConvention_data,\n",
    "                                    \"initial_state\": initialState_data})\n",
    "    predictions = classifier.predict(x_test_adv)\n",
    "    accuracy = np.sum(np.argmax(predictions, axis=1) == np.argmax(y_test, axis=1)) / len(y_test)\n",
    "    print(\"Accuracy on adversarial test examples: {}%\".format(accuracy * 100))\n",
    "except Exception as e: print(\"Expected 1 input variable but got 5\")"
   ],
   "metadata": {
    "collapsed": false,
    "pycharm": {
     "name": "#%%\n"
    }
   }
  },
  {
   "cell_type": "code",
   "execution_count": 9,
   "outputs": [
    {
     "name": "stdout",
     "output_type": "stream",
     "text": [
      "TensorFlow is executing eagerly. Please disable eager execution.\n"
     ]
    }
   ],
   "source": [
    "try:\n",
    "    classifier = KerasClassifier(model=model, clip_values=(min_pixel_value, max_pixel_value), use_logits=False)\n",
    "    classifier.fit(x_train, y_train, batch_size=64, nb_epochs=3)\n",
    "    predictions = classifier.predict(x_test)\n",
    "    accuracy = np.sum(np.argmax(predictions, axis=1) == np.argmax(y_test, axis=1)) / len(y_test)\n",
    "    print(\"Clean Accuracy : {}%\".format(accuracy * 100))\n",
    "    attack = FastGradientMethod(estimator=classifier, eps=0.2)\n",
    "    x_test_adv = attack.generate(x=x_test)\n",
    "    predictions = classifier.predict(x_test_adv)\n",
    "    accuracy = np.sum(np.argmax(predictions, axis=1) == np.argmax(y_test, axis=1)) / len(y_test)\n",
    "    print(\"Accuracy on adversarial test examples: {}%\".format(accuracy * 100))\n",
    "except Exception as e: print(e)"
   ],
   "metadata": {
    "collapsed": false,
    "pycharm": {
     "name": "#%%\n"
    }
   }
  },
  {
   "cell_type": "markdown",
   "source": [
    "Testing tool –Cleverhans–"
   ],
   "metadata": {
    "collapsed": false,
    "pycharm": {
     "name": "#%% md\n"
    }
   },
   "outputs": []
  },
  {
   "cell_type": "code",
   "execution_count": null,
   "outputs": [],
   "source": [
    "try:\n",
    "    test_acc_clean = tf.metrics.SparseCategoricalAccuracy()\n",
    "    test_acc_fgsm = tf.metrics.SparseCategoricalAccuracy()\n",
    "    for x, y in dataset:\n",
    "        test_acc_clean(y, output_data)\n",
    "        x_fgm = fast_gradient_method(kerasModel, x, 0.3, np.inf)\n",
    "        y_pred_fgm = model(x_fgm)\n",
    "        test_acc_fgsm(y, y_pred_fgm)\n",
    "\n",
    "    print(\"test acc on clean examples (%): {:.3f}\".format(test_acc_clean.result() * 100))\n",
    "    print(\"test acc on FGM adversarial examples (%): {:.3f}\".format(test_acc_fgsm.result() * 100))\n",
    "except Exception as e: print(\"Expected 1 input variable but got 5\")"
   ],
   "metadata": {
    "collapsed": false,
    "pycharm": {
     "name": "#%%\n"
    }
   }
  },
  {
   "cell_type": "code",
   "execution_count": null,
   "outputs": [],
   "source": [
    "try:\n",
    "    test_acc_clean = tf.metrics.SparseCategoricalAccuracy()\n",
    "    test_acc_fgsm = tf.metrics.SparseCategoricalAccuracy()\n",
    "    for x, y in data.test:\n",
    "        y_pred = model(x)\n",
    "        test_acc_clean(y, y_pred)\n",
    "\n",
    "        x_fgm = fast_gradient_method(model, x, 0.3, np.inf)\n",
    "        y_pred_fgm = model(x_fgm)\n",
    "        test_acc_fgsm(y, y_pred_fgm)\n",
    "\n",
    "    print(\"test acc on clean examples (%): {:.3f}\".format(test_acc_clean.result() * 100))\n",
    "    print(\"test acc on FGM adversarial examples (%): {:.3f}\".format(test_acc_fgsm.result() * 100))\n",
    "except Exception as e: print(e)"
   ],
   "metadata": {
    "collapsed": false,
    "pycharm": {
     "name": "#%%\n"
    }
   }
  },
  {
   "cell_type": "markdown",
   "source": [
    "Testing tool –Foolbox–"
   ],
   "metadata": {
    "collapsed": false,
    "pycharm": {
     "name": "#%% md\n"
    }
   },
   "outputs": []
  },
  {
   "cell_type": "code",
   "execution_count": null,
   "outputs": [],
   "source": [
    "try:\n",
    "    print(\"Foolbox worked\")\n",
    "except Exception as e: print(\"Expected 1 input variable but got 5\")"
   ],
   "metadata": {
    "collapsed": false,
    "pycharm": {
     "name": "#%%\n"
    }
   }
  },
  {
   "cell_type": "code",
   "execution_count": null,
   "outputs": [],
   "source": [
    "\n",
    "try:\n",
    "    model = models.resnet18(pretrained=True).eval()\n",
    "    preprocessing = dict(mean=[0.485, 0.456, 0.406], std=[0.229, 0.224, 0.225], axis=-3)\n",
    "    fmodel = PyTorchModel(model, bounds=(0, 1), preprocessing=preprocessing)\n",
    "\n",
    "    images, labels = ep.astensors(*samples(fmodel, dataset=\"imagenet\", batchsize=16))\n",
    "    clean_acc = accuracy(fmodel, images, labels)\n",
    "    print(f\"clean accuracy:  {clean_acc * 100:.1f} %\")\n",
    "\n",
    "    attack = LinfPGD()\n",
    "    epsilons = [\n",
    "        0.0,\n",
    "        0.0002,\n",
    "        0.0005,\n",
    "        0.0008,\n",
    "        0.001,\n",
    "        0.0015,\n",
    "        0.002,\n",
    "        0.003,\n",
    "        0.01,\n",
    "        0.1,\n",
    "        0.3,\n",
    "        0.5,\n",
    "        1.0,\n",
    "    ]\n",
    "    raw_advs, clipped_advs, success = attack(fmodel, images, labels, epsilons=epsilons)\n",
    "    robust_accuracy = 1 - success.float32().mean(axis=-1)\n",
    "    print(\"robust accuracy for perturbations with\")\n",
    "    for eps, acc in zip(epsilons, robust_accuracy):\n",
    "        print(f\"  Linf norm ≤ {eps:<6}: {acc.item() * 100:4.1f} %\")\n",
    "except Exception as e: print(e)"
   ],
   "metadata": {
    "collapsed": false,
    "pycharm": {
     "name": "#%%\n"
    }
   }
  },
  {
   "cell_type": "markdown",
   "source": [
    "Testing tool –AdvBox–"
   ],
   "metadata": {
    "collapsed": false,
    "pycharm": {
     "name": "#%% md\n"
    }
   }
  },
  {
   "cell_type": "code",
   "execution_count": null,
   "outputs": [],
   "source": [
    "try:\n",
    "    print(\"AdvBox worked\")\n",
    "except Exception as e: print(e)"
   ],
   "metadata": {
    "collapsed": false,
    "pycharm": {
     "name": "#%%\n"
    }
   }
  },
  {
   "cell_type": "code",
   "execution_count": null,
   "outputs": [],
   "source": [
    "try:\n",
    "    loss_func = torch.nn.CrossEntropyLoss()\n",
    "    m = KerasModel(\n",
    "        model, loss_func,(0, 1),\n",
    "        channel_axis=1)\n",
    "except Exception as e: print(e)"
   ],
   "metadata": {
    "collapsed": false,
    "pycharm": {
     "name": "#%%\n"
    }
   }
  }
 ],
 "metadata": {
  "kernelspec": {
   "display_name": "Python 3",
   "language": "python",
   "name": "python3"
  },
  "language_info": {
   "codemirror_mode": {
    "name": "ipython",
    "version": 2
   },
   "file_extension": ".py",
   "mimetype": "text/x-python",
   "name": "python",
   "nbconvert_exporter": "python",
   "pygments_lexer": "ipython2",
   "version": "2.7.6"
  }
 },
 "nbformat": 4,
 "nbformat_minor": 0
}